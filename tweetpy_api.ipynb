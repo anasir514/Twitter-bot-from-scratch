{
  "nbformat": 4,
  "nbformat_minor": 0,
  "metadata": {
    "colab": {
      "name": "Untitled0.ipynb",
      "provenance": [],
      "authorship_tag": "ABX9TyMPT9uSkYZoaSeR5GOiakx2",
      "include_colab_link": true
    },
    "kernelspec": {
      "name": "python3",
      "display_name": "Python 3"
    },
    "language_info": {
      "name": "python"
    }
  },
  "cells": [
    {
      "cell_type": "markdown",
      "metadata": {
        "id": "view-in-github",
        "colab_type": "text"
      },
      "source": [
        "<a href=\"https://colab.research.google.com/github/anasir514/Twitter-bot-from-scratch/blob/main/tweetpy_api.ipynb\" target=\"_parent\"><img src=\"https://colab.research.google.com/assets/colab-badge.svg\" alt=\"Open In Colab\"/></a>"
      ]
    },
    {
      "cell_type": "code",
      "metadata": {
        "id": "xq6a9KAcWRkJ"
      },
      "source": [
        "pip install tweepy"
      ],
      "execution_count": null,
      "outputs": []
    },
    {
      "cell_type": "code",
      "metadata": {
        "id": "6ENnLtL6fao3"
      },
      "source": [
        ""
      ],
      "execution_count": null,
      "outputs": []
    },
    {
      "cell_type": "code",
      "metadata": {
        "id": "8gY6O0ncfa1r"
      },
      "source": [
        ""
      ],
      "execution_count": null,
      "outputs": []
    },
    {
      "cell_type": "code",
      "metadata": {
        "id": "kz9PqAyzfbGm"
      },
      "source": [
        ""
      ],
      "execution_count": null,
      "outputs": []
    },
    {
      "cell_type": "code",
      "metadata": {
        "id": "IInhTwS3fbTF"
      },
      "source": [
        ""
      ],
      "execution_count": null,
      "outputs": []
    },
    {
      "cell_type": "code",
      "metadata": {
        "id": "Eu50xEJ0XuXb"
      },
      "source": [
        "import tweepy\n",
        "\n",
        "# -------------------------------------------------------------------\n",
        "\n",
        "consumer_key           = cons_key\n",
        "consumer_secret        = cons_secret \n",
        "access_token           = acc_token\n",
        "access_token_secret    = acc_token_secret\n",
        " \n",
        "\n",
        "# -------------------------------------------------------------------\n",
        "\n",
        "auth = tweepy.OAuthHandler(consumer_key, consumer_secret)\n",
        "auth.set_access_token(access_token, access_token_secret)\n",
        "\n",
        "api = tweepy.API(auth)\n",
        "api = tweepy.API(auth)\n",
        "\n",
        "print(\"-----------------------------------------------------------------\")\n",
        "print(\"             TESTING Authentication\")\n",
        "\n",
        "try:\n",
        "    api.verify_credentials()\n",
        "    print(\"Authentication OK\")\n",
        "except:\n",
        "    print(\"Error during authentication\")\n",
        "\n",
        "print(\"-----------------------------------------------------------------\")\n",
        "print(\"             TESTING USER ACCESS DATA\")\n",
        "\n",
        "user = api.get_user(\"MikezGarcia\")\n",
        "\n",
        "print(\"User details:\")\n",
        "print(user.name)\n",
        "print(user.description)\n",
        "print(user.location)\n",
        "\n",
        "print(\"Last 20 Followers:\")\n",
        "for follower in user.followers():\n",
        "    print(follower.name)\n",
        "\n",
        "print(\"-----------------------------------------------------------------\")\n",
        "print(\"             TESTING STATUS UPDATE\")\n",
        "\n",
        "api.update_status(\"Test tweet from world and beyond\")\n",
        "\n",
        "print(\"-----------------------------------------------------------------\")\n",
        "print(\"             TESTING TIMELINE CHECK\")\n",
        "\n",
        "public_tweets = api.home_timeline()\n",
        "for tweet in public_tweets:\n",
        "    print(tweet.text)"
      ],
      "execution_count": null,
      "outputs": []
    }
  ]
}